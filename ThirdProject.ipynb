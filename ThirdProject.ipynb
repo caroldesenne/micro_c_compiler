{
 "cells": [
  {
   "cell_type": "markdown",
   "metadata": {},
   "source": [
    "# Third Project\n"
   ]
  },
  {
   "cell_type": "markdown",
   "metadata": {},
   "source": [
    "In this third project, you will do some analysis and optimizations in uCIR. First, you will determine the basic blocks. After, you're going to build a control flow graph (CFG) and compute the SSA graph, reflected through phi operations in the uCIR. Next, you're going to compute the dominators for the CFG, i.e. for each basic block, identify the set of basic blocks that dominate that block. This means that every path from the entry block to that block must go through the blocks in the dominator set. After that, you can simplify control flow (1) by merging consecutive blocks where the parent has one child, the child one parent, and both have compatible instruction leaders; (2) find all immediate dead blocks and remove then and finally, perform some basic optimizations like constant propagation and dead code elimination.\n",
    "\n",
    "We will try to give you a hand by giving you some of the pieces prewritten and littered your code with helpful statements. By the time you’re done, you’ll have a pretty thorough understanding of the analyses and optimizations realized by real compilers."
   ]
  },
  {
   "cell_type": "markdown",
   "metadata": {},
   "source": [
    "## Basic Block Creation\n",
    "\n",
    "After constructing the sequence of instructions in its intermediate representation for the program, we will determine the basic blocks. A basic block is a sequence of instructions where the control flow enters only at the beginning of the block and exits at the end of the block, without the possibility of deviation to any other part of the program. The basic blocks make up the nodes of a control flow graph (CFG), a structure that will be important for performing code optimizations.\n",
    "\n",
    "To create the basic blocks, you must first determine the set of leaders, which will match the first statement of each basic block. To do this, proceed according to the algorithm below:\n",
    "\n",
    "1. The first instruction is a leader;\n",
    "2. Any instruction that is subject to conditional or unconditional deviation is a leader;\n",
    "3. Any instruction that comes immediately after a conditional or unconditional deviation instruction is a leader;\n",
    "4. For each leader, your basic block consists of the leader and all instructions that follow him to the next leader, excluding this last.\n",
    "\n",
    "When building the basic blocks, you may need to include additional statements so that the first statement of a basic block is always a label and the last statement is a jump statement (conditional or unconditional)."
   ]
  },
  {
   "cell_type": "markdown",
   "metadata": {},
   "source": [
    "### Sample Code\n",
    "\n",
    "The sample code below defines classes and functions for creating and navigating\n",
    "basic blocks.  You need to write all of the code needed yourself."
   ]
  },
  {
   "cell_type": "code",
   "execution_count": 1,
   "metadata": {},
   "outputs": [],
   "source": [
    "# An example of how to create basic blocks\n",
    "\n",
    "class Block(object):\n",
    "    def __init__(self):\n",
    "        self.instructions = []   # Instructions in the block\n",
    "        self.next_block =None    # Link to the next block\n",
    "\n",
    "    def append(self,instr):\n",
    "        self.instructions.append(instr)\n",
    "\n",
    "    def __iter__(self):\n",
    "        return iter(self.instructions)\n",
    "\n",
    "class BasicBlock(Block):\n",
    "    '''\n",
    "    Class for a simple basic block.  Control flow unconditionally\n",
    "    flows to the next block.\n",
    "    '''\n",
    "    pass\n",
    "\n",
    "class IfBlock(Block):\n",
    "    '''\n",
    "    Class for a basic-block representing an if-else.  There are\n",
    "    two branches to handle each possibility.\n",
    "    '''\n",
    "    def __init__(self):\n",
    "        super(IfBlock,self).__init__()\n",
    "        self.if_branch = None\n",
    "        self.else_branch = None\n",
    "        self.test = None\n",
    "\n",
    "class WhileBlock(Block):\n",
    "    def __init__(self):\n",
    "        super(WhileBlock, self).__init__()\n",
    "        self.test = None\n",
    "        self.body = None\n",
    "\n",
    "class BlockVisitor(object):\n",
    "    '''\n",
    "    Class for visiting basic blocks.  Define a subclass and define\n",
    "    methods such as visit_BasicBlock or visit_IfBlock to implement\n",
    "    custom processing (similar to ASTs).\n",
    "    '''\n",
    "    def visit(self,block):\n",
    "        while isinstance(block,Block):\n",
    "            name = \"visit_%s\" % type(block).__name__\n",
    "            if hasattr(self,name):\n",
    "                getattr(self,name)(block)\n",
    "            block = block.next_block"
   ]
  },
  {
   "cell_type": "code",
   "execution_count": null,
   "metadata": {},
   "outputs": [],
   "source": []
  }
 ],
 "metadata": {
  "kernelspec": {
   "display_name": "Python 3",
   "language": "python",
   "name": "python3"
  },
  "language_info": {
   "codemirror_mode": {
    "name": "ipython",
    "version": 3
   },
   "file_extension": ".py",
   "mimetype": "text/x-python",
   "name": "python",
   "nbconvert_exporter": "python",
   "pygments_lexer": "ipython3",
   "version": "3.7.6"
  },
  "latex_envs": {
   "LaTeX_envs_menu_present": true,
   "autoclose": false,
   "autocomplete": true,
   "bibliofile": "biblio.bib",
   "cite_by": "apalike",
   "current_citInitial": 1,
   "eqLabelWithNumbers": true,
   "eqNumInitial": 1,
   "hotkeys": {
    "equation": "Ctrl-E",
    "itemize": "Ctrl-I"
   },
   "labels_anchors": false,
   "latex_user_defs": false,
   "report_style_numbering": false,
   "user_envs_cfg": false
  },
  "toc": {
   "base_numbering": 1,
   "nav_menu": {},
   "number_sections": true,
   "sideBar": true,
   "skip_h1_title": false,
   "title_cell": "Table of Contents",
   "title_sidebar": "Contents",
   "toc_cell": false,
   "toc_position": {},
   "toc_section_display": true,
   "toc_window_display": false
  }
 },
 "nbformat": 4,
 "nbformat_minor": 2
}
