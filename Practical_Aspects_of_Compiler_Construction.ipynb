{
 "cells": [
  {
   "cell_type": "markdown",
   "metadata": {},
   "source": [
    "# Practical Aspects of Compiler Construction. \n",
    "\n",
    "\n"
   ]
  },
  {
   "cell_type": "markdown",
   "metadata": {},
   "source": [
    "The goal of this task is to write a complete compiler for uC (micro C) Language, designed exclusively for this purpose. uC has the essential features of a realistic programming language, but is small and simple enough that it can be implemented in a few thousand lines of code. We chose the Python programming language for this task because it has clear and direct syntax and allows for rapid prototyping. In addition, we will have at our disposal a wonderful combination of tools and code in Python that make compilers so cool."
   ]
  },
  {
   "cell_type": "markdown",
   "metadata": {},
   "source": [
    "<div style=\"text-align: right\">C is not a “very high level” language, nor a “big” one, and is not specialized to any particular area of application.<br/>\n",
    "But its absence of restrictions and its generality make it more convenient and effective for many tasks than supposedly more powerful languages.\"</div>\n",
    "<div style=\"text-align: right\">-- Kernighan and Ritchie</div>"
   ]
  },
  {
   "cell_type": "markdown",
   "metadata": {},
   "source": [
    "While you don’t need to be a Python wizard to complete the task, you should feel comfortable working with the language, and in particular should know how to program with classes. If you’d like a Python refresher, there are a bunch of useful links on the website to help you get up to speed.  I hope that the use of Python in this task doesn’t deter you from taking it.\n",
    "\n",
    "This task will revolve around several programming projects that taken together form a complete working compiler. You will learn how to put into practice the techniques presented in the theoretical part of this course and will study most of the details involved in the implementation of a \"real\" compiler."
   ]
  },
  {
   "cell_type": "markdown",
   "metadata": {},
   "source": [
    "## First Project\n",
    "\n",
    "The first project requires you to implement a scanner, and a parser for the uC language, specified by [uC BNF Grammar](./uC_Grammar.ipynb) notebook. Study the specification of uC grammar carefully. To complete this first project, you will use the [PLY](http://www.dabeaz.com/ply/), a Python version of the [lex/yacc](http://dinosaur.compilertools.net/) toolset with same functionality but with a friendlier interface. Details about this project are in the [First Project](./FirstProject.ipynb) notebook."
   ]
  },
  {
   "cell_type": "markdown",
   "metadata": {},
   "source": [
    "## Second Project\n",
    "\n",
    "Once syntax trees are built, additional analysis and synthesis can be done by evaluating attributes and executing code fragments on tree nodes. We can also walk through the AST to generate a linear N-address code, delineated through basic blocks, analogously to LLVM IR. We call this intermediate machine code as uCIR. So, in this second project, you will perform semantic checks on your program, and turn the AST into uCIR. uCIR uses Single Static Assignment (SSA), and can promote stack allocated scalars to virtual registers and remove the load and store operations, allowing better optimizations since values propagate directly to their use sites.  The main thing that distinguishes SSA from a conventional three-address code is that all assignments in SSA are for distinguished name variables. Details about this project are in the [Second Project](./SecondProject.ipynb) notebook."
   ]
  },
  {
   "cell_type": "markdown",
   "metadata": {},
   "source": [
    "## Third Project\n",
    "\n",
    "In this third project, you will do some analysis and optimizations in uCIR. You're going to build a control flow graph (CFG) and compute the SSA graph, reflected through phi operations in the uCIR. Next, you're going to compute the dominators for the CFG, i.e. for each basic block, identify the set of basic blocks that dominate that block. This means that every path from the entry block to that block must go through the blocks in the dominator set. After that, you can simplify control flow (1) by merging consecutive blocks where the parent has one child, the child one parent, and both have compatible instruction leaders; (2) find all immediate dead blocks and remove then and finally, perform some basic optimizations like constant propagation and dead code elimination.\n",
    "\n",
    "We will try to give you a hand by giving you some of the pieces prewritten and littered your code with helpful statements. By the time you’re done, you’ll have a pretty thorough understanding of the analyses and optimizations realized by real compilers. Details about this project are in the [Third Project](./ThirdProject.ipynb) notebook."
   ]
  },
  {
   "cell_type": "markdown",
   "metadata": {},
   "source": [
    "## Fourth Project"
   ]
  },
  {
   "cell_type": "markdown",
   "metadata": {},
   "source": [
    "In this fouth project, you're going to translate the optimized SSA intermediate representation uCIR into LLVM IR, the intermediate representation of LLVM that is partially specified in [LLVM Primer](./llvm_primer.ipynb). LLVM is a set of production-quality reusable libraries for building compilers. LLVM separates computer architectures from language issues and simplifies the design and portability of new compilers. Before you start, carefully study this simplified specification of the LLVM-IR, tailored to our needs, to familiarize yourself with data structures, addressing modes, and the instructions. The full LLVM IR specification you can find [here](https://llvm.org/docs/LangRef.html).\n",
    "\n",
    "We will try to give you a hand by giving you some of the pieces prewritten and littered your code with helpful statements. By the time you’re done, you’ll have a pretty thorough understanding of the execution code for uC programs and will even gain a little reading familiarity with LLVM-IR. Details about this project are in the [Fourth Project](./FourthProject.ipynb) notebook."
   ]
  },
  {
   "cell_type": "markdown",
   "metadata": {},
   "source": [
    "# Readings\n",
    "The course website is https://guidoaraujo.wordpress.com/mc921ab/ and is loaded with resources for this course. There, you will find the project schedule, the slides for this course, additional class notes and articles presented in class. It can also contain useful links to learn more about the tools we will use (e.g., Python Lex and Yacc), the Python programming language and compilers in general."
   ]
  },
  {
   "cell_type": "markdown",
   "metadata": {},
   "source": [
    "# Late politics\n",
    "The programming projects in this course implement stages of the compilation process and, consequently, each task is based on the previous one. This means that if you start to fall behind in one of the tasks, it can be extremely difficult to get back on track again. That said, I fully understand that you may need extra time to complete each of the tasks. In that sense, you have five days overdue on the calendar that can be used in any of the assignments without penalty. I appreciate a warning so that I can expect your solution late. However, after using all five days late, your assignments will be penalized by 10% per day late; so try to deliver them on time! For logistical reasons, there are no permitted delays in delivering the final programming stage (fourth project)."
   ]
  },
  {
   "cell_type": "markdown",
   "metadata": {},
   "source": [
    "# Code of Honor\n",
    "\n",
    "This course allows students to work in pairs on programming tasks. However, the evaluations will be individual. Do not give another group's project as your own, or share your solution with other students. You should feel free to discuss programming projects with other groups, but all of the work you submit must be from your group. That is, you must implement your programming projects on your own. If you discuss ideas with other groups or students, that's fine, make a note of your submissions."
   ]
  }
 ],
 "metadata": {
  "kernelspec": {
   "display_name": "Python 3",
   "language": "python",
   "name": "python3"
  },
  "language_info": {
   "codemirror_mode": {
    "name": "ipython",
    "version": 3
   },
   "file_extension": ".py",
   "mimetype": "text/x-python",
   "name": "python",
   "nbconvert_exporter": "python",
   "pygments_lexer": "ipython3",
   "version": "3.7.4"
  },
  "latex_envs": {
   "LaTeX_envs_menu_present": true,
   "autoclose": false,
   "autocomplete": true,
   "bibliofile": "biblio.bib",
   "cite_by": "apalike",
   "current_citInitial": 1,
   "eqLabelWithNumbers": true,
   "eqNumInitial": 1,
   "hotkeys": {
    "equation": "Ctrl-E",
    "itemize": "Ctrl-I"
   },
   "labels_anchors": false,
   "latex_user_defs": false,
   "report_style_numbering": false,
   "user_envs_cfg": false
  },
  "toc": {
   "base_numbering": 1,
   "nav_menu": {},
   "number_sections": true,
   "sideBar": true,
   "skip_h1_title": false,
   "title_cell": "Table of Contents",
   "title_sidebar": "Contents",
   "toc_cell": false,
   "toc_position": {
    "height": "calc(100% - 180px)",
    "left": "10px",
    "top": "150px",
    "width": "254.261px"
   },
   "toc_section_display": true,
   "toc_window_display": true
  }
 },
 "nbformat": 4,
 "nbformat_minor": 4
}
